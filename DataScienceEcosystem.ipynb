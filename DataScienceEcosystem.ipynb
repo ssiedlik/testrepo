{
 "cells": [
  {
   "cell_type": "markdown",
   "id": "2818f385-f232-4acc-bf49-488f07d1ef94",
   "metadata": {},
   "source": [
    "<h1>Data Science Tools and Ecosystem</h1>"
   ]
  },
  {
   "cell_type": "markdown",
   "id": "02af2113-2e52-4302-ae0e-c3d51da22996",
   "metadata": {},
   "source": [
    "<h3>Some of the popular languages that Data Scientists user are:</h3>"
   ]
  },
  {
   "cell_type": "markdown",
   "id": "d68ad493-699c-46ea-8232-86669195c6ee",
   "metadata": {},
   "source": [
    "<strong>Objectives</strong>"
   ]
  },
  {
   "cell_type": "markdown",
   "id": "66623d66-10b1-4c7e-8cba-cd67f667c993",
   "metadata": {},
   "source": [
    "<ul>\n",
    "    <li>List popular languages for data science</li>\n",
    "    <li>List popular libraries for data science</li>\n",
    "    <li>List popular tools for data science</li>\n",
    "    <li>Run arithmetic expressions</li>\n",
    "    </ul>"
   ]
  },
  {
   "cell_type": "markdown",
   "id": "70ae6e9a-5a95-4842-9a14-a39930b634d3",
   "metadata": {},
   "source": [
    "<p>In this notebook, Data Science Tools and Ecosystem are summarized.</p>"
   ]
  },
  {
   "cell_type": "markdown",
   "id": "e138f72c-e819-4eb9-bc4d-d6ed5c88589a",
   "metadata": {},
   "source": [
    "<ol>\n",
    "  <li>Python</li>\n",
    "  <li>R</li>\n",
    "  <li>SQL</li>\n",
    "  <li>Julia</li>  \n",
    "  <li>Java</li>\n",
    "</ol>"
   ]
  },
  {
   "cell_type": "markdown",
   "id": "d91297c7-e0d2-47c4-bf34-fbd93c4e06b8",
   "metadata": {},
   "source": [
    "<h3>Some of the commonly used libraries used by Data Scientists include:</h3>"
   ]
  },
  {
   "cell_type": "markdown",
   "id": "19f3aec3-508b-479a-8892-dd41c4a7a354",
   "metadata": {},
   "source": [
    "<ol>\n",
    "  <li>Pandas</li>\n",
    "  <li>NumPy</li>\n",
    "  <li>TensorFlow</li>\n",
    "  <li>Keras</li>  \n",
    "    <li>GgPlot2</li>\n",
    "    <li>Matplotlib</li>\n",
    "</ol>"
   ]
  },
  {
   "cell_type": "markdown",
   "id": "3854a11e-c4ff-49fb-8538-da51d4169737",
   "metadata": {},
   "source": [
    "<h3>Data Science Tools</h3>"
   ]
  },
  {
   "cell_type": "markdown",
   "id": "ed0a15fe-1520-470e-8a62-3c57870281b2",
   "metadata": {},
   "source": [
    "<table>\n",
    "    <tc>\n",
    "      <td>Apache Spark</td>\n",
    "      <td>IBM Watson Studio</td>\n",
    "      <td>IBM SPSS Modeler</td>\n",
    "       <td>Jupyter Notebook</td> \n",
    "      <td>R Studio</td>\n",
    "    </tc>\n",
    "</table>"
   ]
  },
  {
   "cell_type": "markdown",
   "id": "9ee35539-5c53-4da3-9cde-a8f289505491",
   "metadata": {},
   "source": [
    "<h3>Below are a few examples of evaluating arithmetic expressions in Python</h3>"
   ]
  },
  {
   "cell_type": "code",
   "execution_count": 18,
   "id": "df923b50-6ec9-4759-9512-d82418a0e174",
   "metadata": {},
   "outputs": [
    {
     "data": {
      "text/plain": [
       "17"
      ]
     },
     "execution_count": 18,
     "metadata": {},
     "output_type": "execute_result"
    }
   ],
   "source": [
    "#This a simple arithmetic expression to mutiply then add integers\n",
    "(3*4)+5"
   ]
  },
  {
   "cell_type": "code",
   "execution_count": 19,
   "id": "2599083b-af40-437b-ad3b-9ec150015e6e",
   "metadata": {},
   "outputs": [
    {
     "name": "stdout",
     "output_type": "stream",
     "text": [
      "3.3333333333333335\n"
     ]
    }
   ],
   "source": [
    "#This will convert 200 minutes to hours by diving by 60\n",
    "minutes = 200\n",
    "hours = minutes/60\n",
    "print(hours)"
   ]
  },
  {
   "cell_type": "markdown",
   "id": "1118dd57-20ae-4ac1-917d-8e0f2295f61c",
   "metadata": {},
   "source": [
    "<h2><strong>Author</strong</h2><br><p>Sarah Siedlik</p>"
   ]
  },
  {
   "cell_type": "code",
   "execution_count": null,
   "id": "ad100f61-7908-4bb9-9b59-c8b8581e78c9",
   "metadata": {},
   "outputs": [],
   "source": []
  }
 ],
 "metadata": {
  "kernelspec": {
   "display_name": "Python",
   "language": "python",
   "name": "conda-env-python-py"
  },
  "language_info": {
   "codemirror_mode": {
    "name": "ipython",
    "version": 3
   },
   "file_extension": ".py",
   "mimetype": "text/x-python",
   "name": "python",
   "nbconvert_exporter": "python",
   "pygments_lexer": "ipython3",
   "version": "3.7.12"
  }
 },
 "nbformat": 4,
 "nbformat_minor": 5
}
