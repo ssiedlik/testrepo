{
 "cells": [
  {
   "cell_type": "markdown",
   "id": "2818f385-f232-4acc-bf49-488f07d1ef94",
   "metadata": {},
   "source": [
    "<h1>Final Assignment</h1>"
   ]
  },
  {
   "cell_type": "markdown",
   "id": "70ae6e9a-5a95-4842-9a14-a39930b634d3",
   "metadata": {},
   "source": [
    "<p><strong>Sarah Siedlik</strong> <br>\n",
    "    Computer Science Teacher</p>"
   ]
  },
  {
   "cell_type": "markdown",
   "id": "350a4246-472a-4318-9dbf-50276f950b82",
   "metadata": {},
   "source": [
    "<p><em>I'm interested in pursuing a job in data science because I enjoy working with numbers, analyzing data, writing code, and working in teams.  <br>\n",
    "    I have always had an interest in this and have been teaching Computer Science and Cyber Security for the last 7 years.  Now I'm ready for a <br>challenge and would like to pursue data science full time.</em></p>"
   ]
  },
  {
   "cell_type": "markdown",
   "id": "02af2113-2e52-4302-ae0e-c3d51da22996",
   "metadata": {},
   "source": [
    "<h3>Some Data Science Languages</h3>"
   ]
  },
  {
   "cell_type": "markdown",
   "id": "e138f72c-e819-4eb9-bc4d-d6ed5c88589a",
   "metadata": {},
   "source": [
    "<ol>\n",
    "  <li>Python</li>\n",
    "  <li>R</li>\n",
    "  <li>SQL</li>\n",
    "  <li>Julia</li>  \n",
    "  <li>Java</li>\n",
    "</ol>"
   ]
  },
  {
   "cell_type": "markdown",
   "id": "d91297c7-e0d2-47c4-bf34-fbd93c4e06b8",
   "metadata": {},
   "source": [
    "<h3>Some Data Science Libraries</h3>"
   ]
  },
  {
   "cell_type": "markdown",
   "id": "19f3aec3-508b-479a-8892-dd41c4a7a354",
   "metadata": {},
   "source": [
    "<ol>\n",
    "  <li>Pandas</li>\n",
    "  <li>NumPy</li>\n",
    "  <li>TensorFlow</li>\n",
    "  <li>Keras</li>  \n",
    "    <li>GgPlot2</li>\n",
    "    <li>Matplotlib</li>\n",
    "</ol>"
   ]
  },
  {
   "cell_type": "markdown",
   "id": "3854a11e-c4ff-49fb-8538-da51d4169737",
   "metadata": {},
   "source": [
    "<h3>Some Data Science Tools</h3>"
   ]
  },
  {
   "cell_type": "markdown",
   "id": "ed0a15fe-1520-470e-8a62-3c57870281b2",
   "metadata": {},
   "source": [
    "<table>\n",
    "    <tr>\n",
    "      <th>Apache Spark</th>\n",
    "      <th>IBM Watson Studio</th>\n",
    "    </tr>\n",
    "    <tr>\n",
    "      <th>IBM SPSS Modeler</th>\n",
    "        <th>Jupyter Notebook</th> \n",
    "      <th>R Studio</th>\n",
    "    </tr>\n",
    "</table>"
   ]
  },
  {
   "cell_type": "markdown",
   "id": "9ee35539-5c53-4da3-9cde-a8f289505491",
   "metadata": {},
   "source": [
    "<h3>The code below displays an arithmetic expression</h3>"
   ]
  },
  {
   "cell_type": "code",
   "execution_count": 11,
   "id": "df923b50-6ec9-4759-9512-d82418a0e174",
   "metadata": {},
   "outputs": [
    {
     "name": "stdout",
     "output_type": "stream",
     "text": [
      "The sum of 2 and the product of 5 and 7 is 37\n",
      "The sum of 8 and 9 17\n",
      "The product of 5 and 3 is 15\n"
     ]
    }
   ],
   "source": [
    "print(\"The sum of 2 and the product of 5 and 7 is\", 2+5*7)\n",
    "print(\"The sum of 8 and 9\", 8+9)\n",
    "print(\"The product of 5 and 3 is\", 5*3)"
   ]
  },
  {
   "cell_type": "code",
   "execution_count": 12,
   "id": "2599083b-af40-437b-ad3b-9ec150015e6e",
   "metadata": {},
   "outputs": [
    {
     "name": "stdout",
     "output_type": "stream",
     "text": [
      "2.0\n"
     ]
    }
   ],
   "source": [
    "minutes = 120\n",
    "hours = minutes/60\n",
    "print(hours)"
   ]
  },
  {
   "cell_type": "markdown",
   "id": "dc9cbbe1-f00f-47a4-9efd-395d89dc29e4",
   "metadata": {},
   "source": [
    "<h3>The Objectives of this Course are:</h3>"
   ]
  },
  {
   "cell_type": "markdown",
   "id": "4fbca01e-c928-41c8-832f-81574a9cf3c2",
   "metadata": {},
   "source": [
    "<ul>\n",
    "  <li>Create and share a public Jupyter notebook, in any language, in Watson Studio and create markdown cells for peer review.</li>\n",
    "  <li>Evaluate and grade final assignments submitted by fellow learners using the given rubric. Provide constructive feedback and offer ideas and suggestions that fellow learners can apply right away.</li>\n",
    "</ul>"
   ]
  },
  {
   "cell_type": "markdown",
   "id": "1118dd57-20ae-4ac1-917d-8e0f2295f61c",
   "metadata": {},
   "source": [
    "<p>Author: Sarah Siedlik</p>"
   ]
  },
  {
   "cell_type": "raw",
   "id": "68b0cc4c-035c-4b4e-8497-3cf82a4b2262",
   "metadata": {},
   "source": []
  },
  {
   "cell_type": "code",
   "execution_count": null,
   "id": "bdfe6fa7-89ef-4e56-b73a-c3f7972bf572",
   "metadata": {},
   "outputs": [],
   "source": []
  }
 ],
 "metadata": {
  "kernelspec": {
   "display_name": "Python",
   "language": "python",
   "name": "conda-env-python-py"
  },
  "language_info": {
   "codemirror_mode": {
    "name": "ipython",
    "version": 3
   },
   "file_extension": ".py",
   "mimetype": "text/x-python",
   "name": "python",
   "nbconvert_exporter": "python",
   "pygments_lexer": "ipython3",
   "version": "3.7.12"
  }
 },
 "nbformat": 4,
 "nbformat_minor": 5
}
